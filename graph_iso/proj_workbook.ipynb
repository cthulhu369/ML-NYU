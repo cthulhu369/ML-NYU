{
 "cells": [
  {
   "cell_type": "code",
   "execution_count": 1,
   "metadata": {},
   "outputs": [],
   "source": [
    "import os\n",
    "import readARGdbFiles\n",
    "import load_adj_mat\n",
    "import get_graph_pairs_and_labels"
   ]
  },
  {
   "cell_type": "code",
   "execution_count": 2,
   "metadata": {},
   "outputs": [],
   "source": [
    "input_directory = \"/home/ericp/Coding/projects/ML-NYU/graph_iso/graphsdb/iso/m2D/m2D\"\n",
    "output_directory = \"/home/ericp/Coding/projects/ML-NYU/graph_iso/graphsdb/iso/m2D/adj_mats2\""
   ]
  },
  {
   "cell_type": "code",
   "execution_count": 3,
   "metadata": {},
   "outputs": [],
   "source": [
    "# Ensure the output directory exists\n",
    "if not os.path.exists(output_directory):\n",
    "    os.makedirs(output_directory)"
   ]
  },
  {
   "cell_type": "code",
   "execution_count": null,
   "metadata": {},
   "outputs": [],
   "source": [
    "# Process each file in the input directory\n",
    "for filename in os.listdir(input_directory):\n",
    "    input_file_path = os.path.join(input_directory, filename)\n",
    "    output_file_path = os.path.join(output_directory, filename)\n",
    "    adjacency_matrix = readARGdbFiles.read_graph(input_file_path)\n",
    "    \n",
    "    if adjacency_matrix is not None:\n",
    "        # print(adjacency_matrix.shape)\n",
    "        readARGdbFiles.save_adjacency_matrix(adjacency_matrix, output_file_path)"
   ]
  },
  {
   "cell_type": "code",
   "execution_count": 5,
   "metadata": {},
   "outputs": [],
   "source": [
    "# Example usage\n",
    "mat_path = output_directory + \"/iso_m2D_s16.A26\"\n",
    "adj_matrix = load_adj_mat.load_adjacency_matrix(mat_path)"
   ]
  },
  {
   "cell_type": "code",
   "execution_count": 6,
   "metadata": {},
   "outputs": [],
   "source": [
    "gtr_file_path = '/home/ericp/Coding/projects/ML-NYU/graph_iso/graphsdb/iso_m2D.gtr'\n",
    "adj_mat_dir_path = '/home/ericp/Coding/projects/ML-NYU/graph_iso/graphsdb/iso/m2D/adj_mats2'"
   ]
  },
  {
   "cell_type": "code",
   "execution_count": 8,
   "metadata": {},
   "outputs": [],
   "source": [
    "graph_pairs, labels = get_graph_pairs_and_labels.load_graph_pairs_and_labels(gtr_file_path, adj_mat_dir_path)"
   ]
  },
  {
   "cell_type": "code",
   "execution_count": null,
   "metadata": {},
   "outputs": [],
   "source": []
  }
 ],
 "metadata": {
  "kernelspec": {
   "display_name": "Py10Venv",
   "language": "python",
   "name": "python3"
  },
  "language_info": {
   "codemirror_mode": {
    "name": "ipython",
    "version": 3
   },
   "file_extension": ".py",
   "mimetype": "text/x-python",
   "name": "python",
   "nbconvert_exporter": "python",
   "pygments_lexer": "ipython3",
   "version": "3.10.11"
  }
 },
 "nbformat": 4,
 "nbformat_minor": 2
}
